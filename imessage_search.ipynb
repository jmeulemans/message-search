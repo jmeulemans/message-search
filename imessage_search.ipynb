{
 "cells": [
  {
   "cell_type": "markdown",
   "metadata": {},
   "source": [
    "# Message Search\n",
    "Searching iMessages on a Mac or iPhone is slow, taking 5-30s depending on what you're looking for. Once you've searched, cycling results is unintuitive - `command+G` and `command-shift-G` for reference - and seeing all results in one view is not possible. Using Python and Elasticsearch, we can solve both of these issues. "
   ]
  },
  {
   "cell_type": "markdown",
   "metadata": {},
   "source": [
    "Let's start by getting all of the imports out of the way, and giving little preview of things to come. "
   ]
  },
  {
   "cell_type": "code",
   "execution_count": 1,
   "metadata": {
    "collapsed": true
   },
   "outputs": [],
   "source": [
    "from __future__ import print_function\n",
    "import datetime\n",
    "import sqlite3\n",
    "from collections import namedtuple\n",
    "from elasticsearch import Elasticsearch\n",
    "from elasticsearch.helpers import bulk\n",
    "from tqdm import tqdm"
   ]
  },
  {
   "cell_type": "markdown",
   "metadata": {},
   "source": [
    "## Working with the message database\n",
    "\n",
    "Messages on a mac are stored in a file called `chat.db`, which is located in `~/Library/messages/` by default. To ensure nothing we do modifies this file, copy it. I'll be working on a duplicate stored in my current working directory."
   ]
  },
  {
   "cell_type": "code",
   "execution_count": 2,
   "metadata": {
    "collapsed": true
   },
   "outputs": [],
   "source": [
    "PATH_TO_DB = 'chat.db' # file path to local copy of messages database"
   ]
  },
  {
   "cell_type": "markdown",
   "metadata": {},
   "source": [
    "This is a sqlite3 database, for which Python convienently has built-in support. Let's connect and get back a cursor so we can start exploring this database a little bit."
   ]
  },
  {
   "cell_type": "code",
   "execution_count": 3,
   "metadata": {
    "collapsed": false
   },
   "outputs": [],
   "source": [
    "def connect(path_to_db):        \n",
    "    conn = sqlite3.connect(path_to_db)\n",
    "    cursor = conn.cursor()\n",
    "    return cursor\n",
    "\n",
    "c = connect(PATH_TO_DB)"
   ]
  },
  {
   "cell_type": "markdown",
   "metadata": {},
   "source": [
    "Digging into the tables first:"
   ]
  },
  {
   "cell_type": "code",
   "execution_count": 4,
   "metadata": {
    "collapsed": false
   },
   "outputs": [
    {
     "name": "stdout",
     "output_type": "stream",
     "text": [
      "['chat', 'sqlite_sequence', 'attachment', 'handle', 'chat_handle_join', 'message', 'chat_message_join', 'message_attachment_join', 'deleted_messages']\n"
     ]
    }
   ],
   "source": [
    "def tables(cursor):\n",
    "        tables = cursor.execute(\"SELECT name FROM sqlite_master WHERE type='table';\")\n",
    "        return [table[0] for table in tables if not table[0].startswith('_')]\n",
    "print(tables(c))"
   ]
  },
  {
   "cell_type": "markdown",
   "metadata": {},
   "source": [
    "The `message` table looks promising, as does `handle`. Querying further about the schema's for each of these tables:"
   ]
  },
  {
   "cell_type": "code",
   "execution_count": 5,
   "metadata": {
    "collapsed": false
   },
   "outputs": [
    {
     "name": "stdout",
     "output_type": "stream",
     "text": [
      "**********Message Schema**********\n",
      "['ROWID', 'guid', 'text', 'replace', 'service_center', 'handle_id', 'subject', 'country', 'attributedBody', 'version', 'type', 'service', 'account', 'account_guid', 'error', 'date', 'date_read', 'date_delivered', 'is_delivered', 'is_finished', 'is_emote', 'is_from_me', 'is_empty', 'is_delayed', 'is_auto_reply', 'is_prepared', 'is_read', 'is_system_message', 'is_sent', 'has_dd_results', 'is_service_message', 'is_forward', 'was_downgraded', 'is_archive', 'cache_has_attachments', 'cache_roomnames', 'was_data_detected', 'was_deduplicated', 'is_audio_message', 'is_played', 'date_played', 'item_type', 'other_handle', 'group_title', 'group_action_type', 'share_status', 'share_direction', 'is_expirable', 'expire_state', 'message_action_type', 'message_source', 'associated_message_guid', 'balloon_bundle_id', 'payload_data', 'associated_message_type', 'expressive_send_style_id', 'associated_message_range_location', 'associated_message_range_length', 'time_expressive_send_played', 'message_summary_info']\n",
      "**********Handle Schema**********\n",
      "['ROWID', 'id', 'country', 'service', 'uncanonicalized_id']\n"
     ]
    }
   ],
   "source": [
    "def schema(cursor, table_name):\n",
    "    # the tuples returned by table_info have the name of the field in the 2nd position, index 1\n",
    "    return [s[1] for s in cursor.execute(\"PRAGMA table_info('{}')\".format(table_name))]\n",
    "\n",
    "print('*'*10+'Message Schema'+'*'*10)\n",
    "print(schema(c, 'message'))\n",
    "print('*'*10+'Handle Schema'+'*'*10)\n",
    "print(schema(c, 'handle'))"
   ]
  },
  {
   "cell_type": "markdown",
   "metadata": {},
   "source": [
    "From `message`, it looks like `text`, `handle_id`, and `date` will be useful. Likewise it looks like from `handle` we really care about the `ROWID` (which is `handle_id` from the message table). This will allow us look up an actual identification for a contact."
   ]
  },
  {
   "cell_type": "markdown",
   "metadata": {},
   "source": [
    "## Transforming the message database to Python classes\n",
    "At this point, we have a lot of data that we are going to want to associate by name. One approach would be to create a Message class, with properties for text, handle_id, and date, and a Handle class with a property for ROWID to id. Namedtuples provide an amazingly compact way to do this in Python."
   ]
  },
  {
   "cell_type": "code",
   "execution_count": 6,
   "metadata": {
    "collapsed": false
   },
   "outputs": [],
   "source": [
    "def class_from_schema(cursor, table_name, class_name):\n",
    "    s = schema(cursor, table_name)\n",
    "    return namedtuple(class_name, s)\n",
    "\n",
    "Message = class_from_schema(c, 'message', 'Message')\n",
    "Handle = class_from_schema(c, 'handle', 'Handle')"
   ]
  },
  {
   "cell_type": "markdown",
   "metadata": {},
   "source": [
    "Now, we can grab all the messages, and all the handles from the database:"
   ]
  },
  {
   "cell_type": "code",
   "execution_count": 7,
   "metadata": {
    "collapsed": false
   },
   "outputs": [],
   "source": [
    "def get_all(cursor, table_name, Class):\n",
    "    all_results = cursor.execute(\"SELECT * FROM {}\".format(table_name))\n",
    "    return [Class(*result) for result in all_results]\n",
    "\n",
    "MESSAGES = get_all(c, 'message', Message)\n",
    "HANDLES = get_all(c, 'handle', Handle)"
   ]
  },
  {
   "cell_type": "markdown",
   "metadata": {},
   "source": [
    "So, we have all the messages, and all the handles. Using the handles, we can create a lookup to use for the `handle_id` field of the messages, and use this to look a contact's identification:"
   ]
  },
  {
   "cell_type": "code",
   "execution_count": 8,
   "metadata": {
    "collapsed": false
   },
   "outputs": [],
   "source": [
    "HANDLE_TO_CONTACT = {handle.ROWID: handle.id for handle in HANDLES}\n",
    "\n",
    "def lookup_contact(message, handle_to_contact):\n",
    "    if message.handle_id in handle_to_contact:\n",
    "        return handle_to_contact[message.handle_id]\n",
    "    elif message.handle_id == 0:\n",
    "        # iMessage uses a handle id of 0 to indicate a group chat\n",
    "        return \"group\"\n",
    "    else:\n",
    "        # for some reason this handle is missing\n",
    "        return message.handle_id"
   ]
  },
  {
   "cell_type": "markdown",
   "metadata": {},
   "source": [
    "iMessage uses the `is_from_me` field to indicate whether it was a message you sent in a conversation, or the person you are speaking with. Let's use this to define a sender/receiver function:"
   ]
  },
  {
   "cell_type": "code",
   "execution_count": null,
   "metadata": {
    "collapsed": false
   },
   "outputs": [],
   "source": [
    "def sender_receiver(message, handle_to_contact):\n",
    "        contact = lookup_contact(message, handle_to_contact)\n",
    "        if message.is_from_me:\n",
    "            return \"self\", contact\n",
    "        return contact, \"self\"\n",
    "    \n",
    "print(sender_receiver(MESSAGES[3], HANDLE_TO_CONTACT))"
   ]
  },
  {
   "cell_type": "markdown",
   "metadata": {},
   "source": [
    "Timestamps always seem to be a little quirky to deal with. In this case, Apple's epoch starts on January 1, 2001, so use this to offset the message timestamps:"
   ]
  },
  {
   "cell_type": "code",
   "execution_count": 10,
   "metadata": {
    "collapsed": false
   },
   "outputs": [
    {
     "name": "stdout",
     "output_type": "stream",
     "text": [
      "2014-08-26 12:05:52\n"
     ]
    }
   ],
   "source": [
    "def timestamp(message, time_offset = 978307200):\n",
    "        return datetime.datetime.fromtimestamp(int(message.date)+time_offset).strftime('%Y-%m-%d %H:%M:%S')\n",
    "print(timestamp(MESSAGES[0]))"
   ]
  },
  {
   "cell_type": "markdown",
   "metadata": {},
   "source": [
    "## Feeding the messages to Elasticsearch\n",
    "\n",
    "We've now got all the messages, we can look up senders and receivers, and the timestamps have been cleaned up. We're ready to feed this to Elasticsearch. Python makes it very natural to get things in the proper format to post. "
   ]
  },
  {
   "cell_type": "code",
   "execution_count": null,
   "metadata": {
    "collapsed": false
   },
   "outputs": [],
   "source": [
    "def index(message, handle_to_contact, _index, _type):\n",
    "        sender, receiver = sender_receiver(message, handle_to_contact)\n",
    "        return {\n",
    "        '_index': _index,\n",
    "        '_type': _type,\n",
    "        '_source': {\n",
    "            \"text\" : message.text,\n",
    "            \"timestamp\" : timestamp(message),\n",
    "            \"sender\" : sender,\n",
    "            \"receiver\": receiver\n",
    "        }\n",
    "    }\n",
    "print(index(MESSAGES[0], HANDLE_TO_CONTACT, 'messages', 'imessage'))"
   ]
  },
  {
   "cell_type": "markdown",
   "metadata": {},
   "source": [
    "All that remains now is to post them! Elasticsearch's batch functionality takes care of this for us:"
   ]
  },
  {
   "cell_type": "code",
   "execution_count": null,
   "metadata": {
    "collapsed": false
   },
   "outputs": [],
   "source": [
    "def post_all(messages, handle_to_contact, _index, _type):\n",
    "    es = Elasticsearch()\n",
    "    return bulk(es, (index(message, handle_to_contact, _index, _type) for message in messages))\n",
    "post_all(MESSAGES, HANDLE_TO_CONTACT, 'messages', 'imessages')"
   ]
  },
  {
   "cell_type": "markdown",
   "metadata": {},
   "source": [
    "## Searching messages\n",
    "\n",
    "We are now rocking and rolling, we can query as we please, and it is WAY faster than the built-in search."
   ]
  },
  {
   "cell_type": "code",
   "execution_count": null,
   "metadata": {
    "collapsed": false
   },
   "outputs": [],
   "source": [
    "def search(term, index, field):\n",
    "    es = Elasticsearch()\n",
    "    res = es.search(index=index, body={\"query\": {\"match\": {field: term}}})\n",
    "    print(\"Got %d Hits\" % res['hits']['total'])\n",
    "    for hit in res['hits']['hits']:\n",
    "        print(\"%(timestamp)s: %(body)s\" % hit[\"_source\"])"
   ]
  }
 ],
 "metadata": {
  "anaconda-cloud": {},
  "kernelspec": {
   "display_name": "Python [conda root]",
   "language": "python",
   "name": "conda-root-py"
  },
  "language_info": {
   "codemirror_mode": {
    "name": "ipython",
    "version": 3
   },
   "file_extension": ".py",
   "mimetype": "text/x-python",
   "name": "python",
   "nbconvert_exporter": "python",
   "pygments_lexer": "ipython3",
   "version": "3.5.2"
  }
 },
 "nbformat": 4,
 "nbformat_minor": 1
}
